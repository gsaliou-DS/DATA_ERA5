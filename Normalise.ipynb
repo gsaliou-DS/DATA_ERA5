{
 "cells": [
  {
   "cell_type": "code",
   "execution_count": 25,
   "id": "e458523a-5d51-4760-9f32-64e449cf5f2b",
   "metadata": {},
   "outputs": [],
   "source": [
    "import os\n",
    "import numpy as np\n",
    "from netCDF4 import Dataset\n",
    "\n",
    "from pathlib import Path\n",
    "import xarray as xr\n",
    "from tqdm import tqdm\n",
    "import pandas as pd\n",
    "import torch\n",
    "\n",
    "import pickle"
   ]
  },
  {
   "cell_type": "code",
   "execution_count": 26,
   "id": "69bf3971-23e6-425a-b478-ba97cf2a3faa",
   "metadata": {},
   "outputs": [],
   "source": [
    "input_directory = '/data_aip05/gsaliou/era5/local/DATA_ERA5/new/test/'\n",
    "geopotential_file = '/data_aip05/gsaliou/era5/local/DATA_ERA5/new/oro/geopotential_0.25_local.nc'\n",
    "stats = '/data_aip05/gsaliou/daily_local/stats.pkl'"
   ]
  },
  {
   "cell_type": "code",
   "execution_count": 23,
   "id": "ebdcb935-6ad1-4246-b0bc-517e6896f4c3",
   "metadata": {},
   "outputs": [],
   "source": [
    "def concat_data_arrays(das):\n",
    "    coords = [\"var\", \"lon\", \"lat\"]\n",
    "    ref = {k:das[0][k] for k in coords}\n",
    "    \n",
    "    data = np.concatenate([x.values for x in das])\n",
    "    new_coordinates = {\n",
    "        \"lon\":ref[\"lon\"],\n",
    "        \"lat\":ref[\"lat\"],\n",
    "        \"var\":ref[\"var\"],\n",
    "        \"time\":np.concatenate([da[\"time\"].values for da in das])\n",
    "    }\n",
    "    da = xr.DataArray(data, coords=new_coordinates, dims=das[0].dims)\n",
    "    return da"
   ]
  },
  {
   "cell_type": "code",
   "execution_count": 4,
   "id": "e611c9d9-91c0-4725-998e-9a26dd7624c9",
   "metadata": {},
   "outputs": [],
   "source": [
    "start = 2021\n",
    "end = 2022"
   ]
  },
  {
   "cell_type": "code",
   "execution_count": 7,
   "id": "37082ea6-1d06-447a-9111-e526b3977fb4",
   "metadata": {},
   "outputs": [],
   "source": [
    "files = [f'/data_aip05/gsaliou/era5/local/DATA_ERA5/new/test/{i}.nc' for i in range(start, end+1)]"
   ]
  },
  {
   "cell_type": "code",
   "execution_count": 8,
   "id": "c46bc7e3-79da-47c1-8441-4c0a6651c7b5",
   "metadata": {},
   "outputs": [
    {
     "name": "stderr",
     "output_type": "stream",
     "text": [
      "\n",
      "  0%|          | 0/2 [00:00<?, ?it/s]\u001b[A\n",
      " 50%|█████     | 1/2 [01:48<01:48, 108.16s/it]\u001b[A\n",
      "100%|██████████| 2/2 [02:48<00:00, 84.19s/it] \u001b[A\n"
     ]
    }
   ],
   "source": [
    "dss = [xr.open_dataset(f).to_dataarray().transpose(\"time\", \"variable\", \"lat\", \"lon\") for f in tqdm(files)]"
   ]
  },
  {
   "cell_type": "code",
   "execution_count": 11,
   "id": "60e18063-5ba1-470c-bdeb-7834816fbb37",
   "metadata": {},
   "outputs": [
    {
     "name": "stdout",
     "output_type": "stream",
     "text": [
      "Processed daily mean for the year 2021.\n",
      "the year (365, 66, 81, 121)\n",
      "Processed daily mean for the year 2022.\n",
      "the year (365, 66, 81, 121)\n"
     ]
    }
   ],
   "source": [
    "for i, year in enumerate(range(start, end + 1)):\n",
    "    # Set the time dimension\n",
    "    dss[i]['time'] = pd.date_range(f\"{year}-01-01\", f\"{year+1}-01-01\", freq=\"h\")[:-1].values\n",
    "\n",
    "    # Convert the time dimension to a pandas datetime index\n",
    "    dss[i].coords['time'] = pd.DatetimeIndex(dss[i].coords['time'].values)\n",
    "\n",
    "    # Compute the daily mean\n",
    "    daily_mean = dss[i].resample(time='1D').mean()\n",
    "\n",
    "    # Replace original DataArray with daily mean DataArray\n",
    "    dss[i] = daily_mean\n",
    "\n",
    "    print(f\"Processed daily mean for the year {year}.\")\n",
    "    print(f\"the year {dss[i].shape}\")"
   ]
  },
  {
   "cell_type": "code",
   "execution_count": 13,
   "id": "8c9c46ce-7a7a-422a-9383-737a3771ca1e",
   "metadata": {},
   "outputs": [],
   "source": [
    "# Déterminer l'année de début et la période\n",
    "start_year = start\n",
    "end_year = end\n",
    "n_years = end - start + 1  \n",
    "\n",
    "\n",
    "combined_list = []\n",
    "oro = xr.open_dataset(geopotential_file).to_array().squeeze()\n",
    "\n",
    "# Itérer sur chaque index dans dss\n",
    "for i in range(len(dss)):\n",
    "    # Calculer l'année basée sur l'index\n",
    "    year = start_year + i\n",
    "    \n",
    "    # Extraire le DataArray correspondant à l'index i\n",
    "    da = dss[i]\n",
    "    \n",
    "    # Convertir les DataArray en tableaux NumPy\n",
    "    dss_np = da.values\n",
    "    oro_np = oro.values\n",
    "    \n",
    "    # Étendre oro pour inclure la dimension 'time' et répéter les valeurs pour chaque pas de temps\n",
    "    oro_np_expanded = np.expand_dims(oro_np, axis=0)\n",
    "    oro_np_expanded = np.repeat(oro_np_expanded, dss_np.shape[0], axis=0)\n",
    "    \n",
    "    # Ajouter une dimension 'var' à oro_np_expanded\n",
    "    oro_np_expanded = np.expand_dims(oro_np_expanded, axis=1)\n",
    "    \n",
    "    # Utiliser np.concatenate pour ajouter oro_np_expanded comme nouvelle variable dans dss_np\n",
    "    combined_np = np.concatenate((dss_np, oro_np_expanded), axis=1)\n",
    "    \n",
    "    # Reconvertir le tableau NumPy en DataArray avec les bonnes dimensions et coordonnées\n",
    "    combined = xr.DataArray(\n",
    "        combined_np,\n",
    "        dims=('time', 'var', 'lat', 'lon'),\n",
    "        coords={\n",
    "            'time': da.coords['time'],\n",
    "            'var': np.append(da.coords['variable'], '66'),\n",
    "            'lat': da.coords['lat'],\n",
    "            'lon': da.coords['lon']\n",
    "        }\n",
    "    )\n",
    "    \n",
    "    # Ajouter le DataArray combiné à la liste\n",
    "    combined_list.append(combined)"
   ]
  },
  {
   "cell_type": "code",
   "execution_count": 21,
   "id": "1f948274-21e3-4d90-a538-26d96e6f7708",
   "metadata": {},
   "outputs": [
    {
     "data": {
      "text/plain": [
       "(365, 67, 81, 121)"
      ]
     },
     "execution_count": 21,
     "metadata": {},
     "output_type": "execute_result"
    }
   ],
   "source": [
    "combined_list[1].shape"
   ]
  },
  {
   "cell_type": "code",
   "execution_count": 24,
   "id": "25a30b77-048c-4cee-aa31-c7a9a595d3af",
   "metadata": {},
   "outputs": [],
   "source": [
    "dac = concat_data_arrays(combined_list)"
   ]
  },
  {
   "cell_type": "code",
   "execution_count": 28,
   "id": "b4485333-2489-4abc-b6ab-d6871c1262dc",
   "metadata": {},
   "outputs": [],
   "source": [
    "with open(stats, 'rb') as file:\n",
    "    mean,std = pickle.load(file)"
   ]
  },
  {
   "cell_type": "code",
   "execution_count": 29,
   "id": "763a77df-87f4-4494-a5ca-e7a1b8188528",
   "metadata": {
    "collapsed": true,
    "jupyter": {
     "outputs_hidden": true
    }
   },
   "outputs": [
    {
     "name": "stdout",
     "output_type": "stream",
     "text": [
      "[ 1.94809166e+01  1.01379502e+05  1.00152629e+05  2.83548739e+02\n",
      "  2.84909047e+02  1.12781512e+06  2.01837853e+05  1.59422552e+05\n",
      "  1.16541972e+05  9.03430120e+04  7.07335450e+04  5.47698234e+04\n",
      "  4.12318357e+04  2.94530479e+04  1.90175672e+04  1.42125695e+04\n",
      "  7.43862930e+03  1.11140525e+03  2.16025154e+02  2.11927629e+02\n",
      "  2.20445817e+02  2.31317854e+02  2.43878256e+02  2.54316427e+02\n",
      "  2.62528674e+02  2.69079829e+02  2.74258212e+02  2.76499588e+02\n",
      "  2.79909820e+02  2.83778841e+02  2.75850870e-06  2.82500917e-06\n",
      "  2.33557351e-05  1.71620189e-04  5.06167989e-04  9.86237439e-04\n",
      "  1.64839933e-03  2.55518880e-03  3.87026599e-03  4.70346449e-03\n",
      "  6.07602949e-03  7.16506255e-03  7.24939196e+00  2.25144782e+01\n",
      "  3.46184426e+01  2.87023656e+01  2.20136202e+01  1.69430218e+01\n",
      "  1.29548936e+01  9.55795694e+00  6.53186423e+00  5.14365867e+00\n",
      "  3.17013694e+00  1.54883671e+00  1.88596903e+00  1.53126595e+00\n",
      "  2.30069951e+00  2.08136579e+00  1.16043741e+00  5.48478714e-01\n",
      "  1.65614323e-01 -8.75465818e-02 -1.46599357e-01 -1.46374014e-01\n",
      " -1.75454941e-01 -2.43339576e-01  1.00231524e+03]\n"
     ]
    }
   ],
   "source": [
    "print (mean)"
   ]
  },
  {
   "cell_type": "code",
   "execution_count": 30,
   "id": "7282faea-0be3-4e97-b581-fd28abafa211",
   "metadata": {
    "collapsed": true,
    "jupyter": {
     "outputs_hidden": true
    }
   },
   "outputs": [
    {
     "name": "stdout",
     "output_type": "stream",
     "text": [
      "[1.49161015e+01 7.65691827e+02 2.62088045e+03 1.12454679e+01\n",
      " 1.11606460e+01 4.36437903e+05 2.51442244e+03 3.20284499e+03\n",
      " 4.01641972e+03 3.57175390e+03 2.81771832e+03 2.16117817e+03\n",
      " 1.62617789e+03 1.18521965e+03 8.32373460e+02 7.02715734e+02\n",
      " 5.95578168e+02 6.00735823e+02 4.35316068e+00 7.60454523e+00\n",
      " 4.27365742e+00 8.54413662e+00 1.04219135e+01 1.06573855e+01\n",
      " 1.05973729e+01 1.07790859e+01 1.10001688e+01 1.10771080e+01\n",
      " 1.09591031e+01 1.07543984e+01 1.78926645e-07 4.91018848e-07\n",
      " 2.61071904e-05 1.98798786e-04 5.64899517e-04 1.04798915e-03\n",
      " 1.63880087e-03 2.33983291e-03 3.18365113e-03 3.59310743e-03\n",
      " 4.23685987e-03 4.94950776e-03 1.08749444e+01 1.45711316e+01\n",
      " 2.18972361e+01 2.03193926e+01 1.59566872e+01 1.23656141e+01\n",
      " 9.70763665e+00 7.77905277e+00 6.60673189e+00 6.39086981e+00\n",
      " 6.21859607e+00 5.07012613e+00 4.32974001e+00 7.13658513e+00\n",
      " 1.29469957e+01 1.25420285e+01 1.02245623e+01 8.40948733e+00\n",
      " 7.16798743e+00 6.29923312e+00 5.81619749e+00 5.79809779e+00\n",
      " 5.93596877e+00 4.98104512e+00 2.11435349e+03]\n"
     ]
    }
   ],
   "source": [
    "print (std)"
   ]
  },
  {
   "cell_type": "code",
   "execution_count": 32,
   "id": "bd8fc257-bb91-485a-9b7d-362df0461c08",
   "metadata": {},
   "outputs": [],
   "source": [
    "dac -= xr.DataArray(mean, coords={\"var\":dac[\"var\"].values})\n",
    "dac /= xr.DataArray(std, coords={\"var\":dac[\"var\"].values})"
   ]
  },
  {
   "cell_type": "code",
   "execution_count": 34,
   "id": "459924e1-29f2-47ac-b13f-7b490a202e2f",
   "metadata": {},
   "outputs": [],
   "source": [
    "da.to_netcdf(\"/data_aip05/gsaliou/daily_local/test/data_normalisedtest.nc\")"
   ]
  },
  {
   "cell_type": "code",
   "execution_count": null,
   "id": "9f92b244-0e5d-43b6-93cc-921dbb288b43",
   "metadata": {},
   "outputs": [],
   "source": []
  }
 ],
 "metadata": {
  "kernelspec": {
   "display_name": "Python 3 (ipykernel)",
   "language": "python",
   "name": "python3"
  },
  "language_info": {
   "codemirror_mode": {
    "name": "ipython",
    "version": 3
   },
   "file_extension": ".py",
   "mimetype": "text/x-python",
   "name": "python",
   "nbconvert_exporter": "python",
   "pygments_lexer": "ipython3",
   "version": "3.9.19"
  }
 },
 "nbformat": 4,
 "nbformat_minor": 5
}
