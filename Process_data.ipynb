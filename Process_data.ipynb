{
 "cells": [
  {
   "cell_type": "code",
   "execution_count": 1,
   "id": "c5cce20a-6869-4a8e-8634-468138bc6815",
   "metadata": {},
   "outputs": [],
   "source": [
    "import os\n",
    "import numpy as np\n",
    "from netCDF4 import Dataset"
   ]
  },
  {
   "cell_type": "code",
   "execution_count": 2,
   "id": "d5cdbb24-f7dc-4f2c-a0ee-9216ac664a02",
   "metadata": {},
   "outputs": [],
   "source": [
    "def list_nc_files(directory):\n",
    "    return [f for f in os.listdir(directory) if f.endswith('.nc')]\n",
    "\n",
    "def extract_time_step(file_path, time_step):\n",
    "    with Dataset(file_path, 'r') as nc_file:\n",
    "        # Assuming variables are stored in a dict-like structure\n",
    "        variables = {var: nc_file.variables[var][time_step, :, :] for var in nc_file.variables}\n",
    "    return variables\n",
    "\n",
    "def add_geopotential(file_path, num_days):\n",
    "    with Dataset(file_path, 'r') as nc_file:\n",
    "        # Assuming 'z' is the variable of interest in the geopotential file\n",
    "        geopotential = nc_file.variables['z'][:num_days, :, :]\n",
    "    return geopotential\n",
    "\n",
    "def save_new_file(output_path, stacked_data):\n",
    "    os.makedirs(os.path.dirname(output_path), exist_ok=True)\n",
    "    with Dataset(output_path, 'w', format='NETCDF4') as nc_file:\n",
    "        # Create dimensions\n",
    "        nc_file.createDimension('time', stacked_data.shape[0])\n",
    "        nc_file.createDimension('variable', stacked_data.shape[1])\n",
    "        nc_file.createDimension('lat', stacked_data.shape[2])\n",
    "        nc_file.createDimension('lon', stacked_data.shape[3])\n",
    "\n",
    "        # Create variable\n",
    "        data_var = nc_file.createVariable('data', np.float32, ('time', 'variable', 'lat', 'lon'))\n",
    "        data_var[:, :, :, :] = stacked_data\n",
    "\n",
    "def verify_file(output_path, expected_shape):\n",
    "    with Dataset(output_path, 'r') as nc_file:\n",
    "        data_var = nc_file.variables['data']\n",
    "        actual_shape = data_var.shape\n",
    "        return actual_shape == expected_shape\n"
   ]
  },
  {
   "cell_type": "code",
   "execution_count": null,
   "id": "5a28ae49-e315-4614-9e9b-c490d602c259",
   "metadata": {},
   "outputs": [],
   "source": [
    "input_directory = '/data_aip05/gsaliou/era5/local/DATA_ERA5/new/'\n",
    "geopotential_file = '/data_aip05/gsaliou/era5/local/DATA_ERA5/new/oro/geopotential_0.25_local.nc'\n",
    "output_directory = '/data_aip05/gsaliou/local_1day/'\n",
    "variables = ['tcwv', 'msl', 'sp', 't2m', 'skt', 'tisr', 'z1', 'z2', 'z3', 'z4', 'z5', 'z6', 'z7', 'z8', 'z9', 'z10', 'z11', 'z12', 't1', 't2', 't3', 't4', 't5', 't6', 't7', 't8', 't9', 't10', 't11', 't12', 'q1', 'q2', 'q3', 'q4', 'q5', 'q6', 'q7', 'q8', 'q9', 'q10', 'q11', 'q12', 'u1', 'u2', 'u3', 'u4', 'u5', 'u6', 'u7', 'u8', 'u9', 'u10', 'u11', 'u12', 'v1', 'v2', 'v3', 'v4', 'v5', 'v6', 'v7', 'v8', 'v9', 'v10', 'v11', 'v12']"
   ]
  },
  {
   "cell_type": "code",
   "execution_count": null,
   "id": "0119faac-94ac-474e-b401-36ab1923b593",
   "metadata": {},
   "outputs": [],
   "source": [
    "nc_files = list_nc_files(input_directory)\n",
    "\n",
    "for i in nc_files:\n",
    "    yearly_data = []\n",
    "    # Year from the file name\n",
    "    year = int(i.split('/')[-1].split('.')[0])\n",
    "    if year % 4 == 0:\n",
    "        num_days = 366\n",
    "    else:\n",
    "        num_days = 365 \n",
    "        file_path = os.path.join(input_directory, i)\n",
    "        daily_data = [extract_time_step(file_path, 12 * day) for day in range(num_days)]\n",
    "        daily_data = np.stack([np.stack([v for v in day.values()], axis=0) for day in daily_data], axis=0)\n",
    "        yearly_data.append(daily_data)\n",
    "\n",
    "        stacked_data = np.stack(yearly_data, axis=0)\n",
    "\n",
    "        geopotential_data = add_geopotential(geopotential_file, num_days)\n",
    "        stacked_data_with_geopotential = np.concatenate([stacked_data, geopotential_data[:, np.newaxis, :, :]], axis=1)\n",
    "        output_file = os.path.join(output_directory,year,'.nc')\n",
    "        save_new_file(output_file, stacked_data_with_geopotential)\n",
    "\n",
    "expected_shape = (num_days, 67, 121, 81)\n",
    "if verify_file(output_file, expected_shape):\n",
    "    print(f\"New file saved correctly with shape {expected_shape}.\")\n",
    "else:\n",
    "    print(\"Error: The new file does not have the expected shape.\")"
   ]
  }
 ],
 "metadata": {
  "kernelspec": {
   "display_name": "Python 3 (ipykernel)",
   "language": "python",
   "name": "python3"
  },
  "language_info": {
   "codemirror_mode": {
    "name": "ipython",
    "version": 3
   },
   "file_extension": ".py",
   "mimetype": "text/x-python",
   "name": "python",
   "nbconvert_exporter": "python",
   "pygments_lexer": "ipython3",
   "version": "3.9.19"
  }
 },
 "nbformat": 4,
 "nbformat_minor": 5
}
